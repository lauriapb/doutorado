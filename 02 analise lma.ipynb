{
 "cells": [
  {
   "cell_type": "code",
   "execution_count": null,
   "metadata": {
    "colab": {
     "base_uri": "https://localhost:8080/"
    },
    "id": "J-_I3jjXTPuu",
    "outputId": "2d64b451-b8de-4951-b5aa-991b4dbed8ed"
   },
   "outputs": [],
   "source": [
    "try:\n",
    "    # se estiver no colab vai rodar o bloco abaixo\n",
    "    from google.colab import data_table, drive\n",
    "    drive.mount('/content/drive', force_remount=True)\n",
    "\n",
    "    data_table.enable_dataframe_formatter()\n",
    "    data_table.DataTable.max_columns = 50\n",
    "    path = \"/content/drive/MyDrive/doutorado/lma\" # caminho do google drive\n",
    "except:\n",
    "    # se nao estiver no colab vai rodar o bloco abaixo\n",
    "    path = \".\" # caminho local"
   ]
  },
  {
   "cell_type": "code",
   "execution_count": null,
   "metadata": {
    "id": "oHv2rLzCee1r"
   },
   "outputs": [],
   "source": [
    "import pandas as pd\n",
    "import matplotlib.pyplot as plt\n",
    "import gzip\n",
    "from io import StringIO\n",
    "from matplotlib import cm, colors\n",
    "from matplotlib.ticker importFormatStrFormatter, MultipleLocator\n",
    "\n",
    "camera = {\"lat\": 39.3384, \"lon\": -112.70096}\n",
    "\n",
    "\n",
    "def m2km(x, _): return f'{x/1000:g}'  # formatar plot label; metro para km"
   ]
  },
  {
   "cell_type": "code",
   "execution_count": null,
   "metadata": {
    "colab": {
     "base_uri": "https://localhost:8080/",
     "height": 669
    },
    "id": "19O-AJnSTTlW",
    "outputId": "735530c4-7371-4bf4-a1ff-96ca8b14fed0"
   },
   "outputs": [],
   "source": [
    "# carrega dados do .csv\n",
    "dados = pd.read_csv(path + \"/lma.csv\", sep=\";\", index_col=0, parse_dates=True, na_values=[\"//\", \"\"], skipinitialspace=True, skip_blank_lines=True, encoding=\"unicode_escape\")\n",
    "dados.columns = dados.columns.str.strip()\n",
    "\n",
    "dados  # visualiza dados do csv para verificar se esta tudo ok"
   ]
  },
  {
   "cell_type": "code",
   "execution_count": null,
   "metadata": {
    "id": "k3mawm-x5wa9"
   },
   "outputs": [],
   "source": [
    "# filtra o stroke, adiciona a coluna \"time\" de acordo com os segundos do dia\n",
    "def stroke_filter(stroke):\n",
    "    stroke[\"time\"] = stroke.name.hour * 60 * 60 + stroke.name.minute * 60 + stroke.name.second + stroke.name.microsecond/1e6\n",
    "\n",
    "    print(\"stroke sendo usado:\")\n",
    "    print(stroke.name.strftime('%Y-%m-%d %H:%M:%S.%f'))\n",
    "    return stroke"
   ]
  },
  {
   "cell_type": "code",
   "execution_count": null,
   "metadata": {
    "id": "gZ7LSuVbsRx-"
   },
   "outputs": [],
   "source": [
    "# obtem os dados de lma no formato .gz. após isso, extrai e processa os dados\n",
    "def get_lmagz(stroke):\n",
    "    fname = \"%s%02d00\" % (stroke.name.strftime('TA_%y%m%d_%H'), int(stroke.name.minute/10)*10)\n",
    "    url = '%s/lma/talma/lightning.nmt.edu/talma/data/%s/%s_0600.dat.gz' % (path, stroke.name.strftime('%y%m%d'), fname)\n",
    "    print(\"URL dos dados de LMA:\", url)\n",
    "\n",
    "    lmagz = gzip.open(url, 'rt').read()\n",
    "    lmagz = lmagz.split('*** data ***')\n",
    "\n",
    "    lmagz = pd.read_csv(StringIO(lmagz[1]), sep='\\s+')\n",
    "    lmagz.columns = [\"time\", \"lat\", \"lon\", \"alt\", \"chi\", \"P\", \"mask\"]\n",
    "    lmagz.head()\n",
    "    return lmagz"
   ]
  },
  {
   "cell_type": "code",
   "execution_count": null,
   "metadata": {
    "id": "CWE0ibfWej9-"
   },
   "outputs": [],
   "source": [
    "# filtra e processa os dados de lma obtidos anteriormente\n",
    "def lma_filter(lmagz, stroke):\n",
    "    lma = lmagz.copy()\n",
    "    lma = lma[(lma.chi <= stroke.chi)]\n",
    "    lma = lma[(lma.time >= stroke.time - stroke.ti) & (lma.time <= stroke.time + stroke.cc)]\n",
    "    lma = lma[(lma.lat >= stroke.lat - stroke.ds) & (lma.lat <= stroke.lat + stroke.ds)]\n",
    "    lma = lma[(lma.lon >= stroke.lon - stroke.ds) & (lma.lon <= stroke.lon + stroke.ds)]\n",
    "    lma = lma[(lma.alt >= stroke.hi) & (lma.alt <= stroke.hf)]\n",
    "\n",
    "    lma[\"dt\"] = lma.time - stroke.time\n",
    "    lma = lma.sort_values(by=['time'])\n",
    "\n",
    "    lma_neg = lma[(lma[\"dt\"] <= 0)]  # valores antes do stroke\n",
    "    lma_pos = lma[(lma[\"dt\"] >= 0)]  # valores depois do stroke\n",
    "\n",
    "    print(\"stroke time:\", stroke.time)\n",
    "    print(\"%-6s %6s %6s %6s\" % (\"pontos\", \"total\", \"acima\", \"abaixo\"))\n",
    "    print(\"%-6s %6d %6d %6d\" % (\"total\",     lma.time.size,     lma[(lma.alt >= stroke.hleader)].time.size,         lma[(lma.alt <= stroke.hleader)].time.size))\n",
    "    print(\"%-6s %6d %6d %6d\" % (\"antes\", lma_neg.time.size, lma_neg[(lma_neg.alt >= stroke.hleader)].time.size, lma_neg[(lma_neg.alt <= stroke.hleader)].time.size))\n",
    "    print(\"%-6s %6d %6d %6d\" % (\"após \", lma_pos.time.size, lma_pos[(lma_pos.alt >= stroke.hleader)].time.size, lma_pos[(lma_pos.alt <= stroke.hleader)].time.size))\n",
    "    print(\"\\nmin\", lma.min())\n",
    "    print(\"\\nmax\", lma.max())\n",
    "    return lma"
   ]
  },
  {
   "cell_type": "code",
   "execution_count": null,
   "metadata": {
    "id": "k8DujgbFx2L5"
   },
   "outputs": [],
   "source": [
    "# gera o plot dos dados e salva em .png\n",
    "def plot_lma(lma, stroke):\n",
    "    ax = {}\n",
    "    im = {}\n",
    "\n",
    "    cmap = colors.LinearSegmentedColormap.from_list('r2b', ['blue', 'red'])\n",
    "    cmap = colors.ListedColormap([\"blue\", \"red\"])\n",
    "    cmap = \"jet\"\n",
    "\n",
    "    fig = plt.figure()\n",
    "    fig.set_size_inches(10, 10)\n",
    "    grid = (15, 15)\n",
    "\n",
    "    # xoo plot\n",
    "    # ooo superior\n",
    "    # ooo histograma de alt\n",
    "    p = (0, 0)\n",
    "    ax[p] = plt.subplot2grid(grid, p, rowspan=2, colspan=2)\n",
    "    ax[p] = lma.alt.plot.hist(bins=range(0, 15000, 100), orientation='horizontal', color='black')\n",
    "    ax[p].xaxis.tick_top()\n",
    "    ax[p].xaxis.set_label_position('top')\n",
    "    ax[p].yaxis.set_major_locator(MultipleLocator(base=3000))\n",
    "    # ax[p].xaxis.set_major_locator(MultipleLocator(base=50))\n",
    "    ax[p].yaxis.set_major_formatter(m2km)\n",
    "    ax[p].set(xlabel=\"Frequência\", ylabel=\"Alt (km)\", ylim=(stroke.hi, stroke.hf))\n",
    "\n",
    "    # oxx plot\n",
    "    # ooo superior\n",
    "    # ooo lon x alt\n",
    "    p = (0, 2)\n",
    "    ax[p] = plt.subplot2grid(grid, p, rowspan=2, colspan=8)\n",
    "    ax[p].yaxis.tick_right()\n",
    "    ax[p].yaxis.set_label_position(\"right\")\n",
    "    ax[p].set(ylabel=\"Alt (km)\", xlabel=\"Lon (°)\", xlim=(stroke.lon - stroke.ds, stroke.lon + stroke.ds), ylim=(stroke.hi, stroke.hf))\n",
    "    ax[p].xaxis.tick_top()\n",
    "    ax[p].xaxis.set_label_position('top')\n",
    "    ax[p].locator_params(nbins=4)\n",
    "    ax[p].yaxis.set_major_locator(MultipleLocator(base=3000))\n",
    "    ax[p].yaxis.set_major_formatter(m2km)\n",
    "    ax[p].xaxis.set_major_formatter(FormatStrFormatter('%.2f'))\n",
    "    im[p] = ax[p].scatter(lma.lon, lma.alt, c=lma[\"dt\"], cmap=cmap, norm=colors.TwoSlopeNorm(0), s=3, alpha=0.8, marker=\".\")\n",
    "    im[p] = ax[p].scatter(stroke.lon, 250, c=\"black\", edgecolor=\"white\", s=50, alpha=1, marker=\"v\")  # posição do stroke\n",
    "    im[p] = ax[p].scatter(camera['lon'], 250, c=\"black\", edgecolor=\"white\", s=40, alpha=1, marker=\"s\")  # coord camera\n",
    "\n",
    "    # ooo plot\n",
    "    # xoo esquerda\n",
    "    # ooo lat x alt\n",
    "    p = (2, 0)\n",
    "    ax[p] = plt.subplot2grid(grid, p, colspan=2, rowspan=8)\n",
    "    ax[p].xaxis.tick_bottom()\n",
    "    ax[p].xaxis.set_label_position(\"bottom\")\n",
    "    ax[p].set(xlabel=\"Alt (km)\", ylabel=\"Lat (°)\", xlim=(stroke.hi, stroke.hf), ylim=(stroke.lat - stroke.ds, stroke.lat + stroke.ds))\n",
    "    ax[p].yaxis.set_major_formatter(FormatStrFormatter('%.2f'))\n",
    "    ax[p].locator_params(nbins=6)\n",
    "    ax[p].xaxis.set_major_locator(MultipleLocator(base=3000))\n",
    "    ax[p].invert_xaxis()\n",
    "    ax[p].xaxis.set_major_formatter(m2km)\n",
    "    im[p] = ax[p].scatter(lma.alt, lma.lat, c=lma[\"dt\"], cmap=cmap, norm=colors.TwoSlopeNorm(0), s=1, alpha=0.8, marker=\".\")\n",
    "    im[p] = ax[p].scatter(500, stroke.lat, c=\"black\", edgecolor=\"white\", s=50, alpha=1, marker=\"v\")  # posição do stroke\n",
    "    im[p] = ax[p].scatter(500, camera['lat'], c=\"black\", edgecolor=\"white\", s=40, alpha=1, marker=\"s\")  # coord camera\n",
    "\n",
    "    # ooo plot\n",
    "    # oxx central\n",
    "    # ooo lon x lat\n",
    "    p = (2, 2)\n",
    "    ax[p] = plt.subplot2grid(grid, p, colspan=8, rowspan=8)\n",
    "    ax[p].set(xlabel=\"Lon (°)\", ylabel=\"Lat (°)\", xlim=(stroke.lon - stroke.ds, stroke.lon + stroke.ds), ylim=(stroke.lat - stroke.ds, stroke.lat + stroke.ds))\n",
    "    ax[p].yaxis.tick_right()\n",
    "    ax[p].yaxis.set_label_position(\"right\")\n",
    "    ax[p].xaxis.set_major_formatter(FormatStrFormatter('%.2f'))\n",
    "    ax[p].yaxis.set_major_formatter(FormatStrFormatter('%.2f'))\n",
    "    ax[p].locator_params(nbins=4, axis='x')\n",
    "    ax[p].locator_params(nbins=6, axis='y')\n",
    "    im[p] = ax[p].scatter(lma.lon, lma.lat, c=lma[\"dt\"], cmap=cmap, norm=colors.TwoSlopeNorm(0), s=3, alpha=0.8, marker=\".\")\n",
    "    im[p] = ax[p].scatter(stroke.lon, stroke.lat, c=\"black\", edgecolor=\"white\", s=50, alpha=1, marker=\"v\")  # posição do stroke\n",
    "    im[p] = ax[p].scatter(camera['lon'], camera['lat'], c=\"black\", edgecolor=\"white\", s=40, alpha=1, marker=\"s\")  # coord camera\n",
    "\n",
    "    # ooo plot\n",
    "    # ooo inferior\n",
    "    # xxx alt x t\n",
    "    p = (11, 0)\n",
    "    ax[p] = plt.subplot2grid(grid, p, rowspan=2, colspan=10)\n",
    "    ax[p].set(xlabel=\"t (ms)\", ylabel=\"Alt (km)\", ylim=(stroke.hi, stroke.hf))\n",
    "    ax[p].yaxis.set_major_locator(MultipleLocator(base=3000))\n",
    "    ax[p].yaxis.set_major_formatter(m2km)\n",
    "    ax[p].set_xmargin(0.01)\n",
    "    ax[p].tick_params(left=True, labelleft=True, bottom=False, labelbottom=False)\n",
    "\n",
    "    ax[p].annotate('DR1', xy=(0, 0), xytext=(-14, 6), textcoords='offset pixels', color='black', rotation=90)\n",
    "    ax[p].annotate('DR2', xy=(stroke['subseq'] * 1000, 0), xytext=(-14, 6), textcoords='offset pixels', color='black', rotation=90)\n",
    "    ax[p].annotate('CC', xy=(stroke['cc_duration'] * 1000, 0), xytext=(-12, 80), textcoords='offset pixels', color='black', rotation=90)\n",
    "\n",
    "    ax_twin = ax[p].twinx()  # clona eixo x, para mostrar eixo y na direita\n",
    "    ax_twin.set_yticks(ax[p].get_yticks())\n",
    "    ax_twin.set_yticklabels(ax[p].get_yticklabels())\n",
    "    ax_twin.set_ylabel(ax[p].get_ylabel())\n",
    "    ax_twin.set_ylim(ax[p].get_ylim())\n",
    "\n",
    "    im[p] = ax[p].scatter(lma[\"dt\"]*1000, lma.alt, c=lma[\"dt\"], cmap=cmap, norm=colors.TwoSlopeNorm(0), s=3, alpha=0.8, marker=\".\")\n",
    "    im[p] = ax[p].axvline(x=0, color='orange', ls='dashed', alpha=0.8)\n",
    "    im[p] = ax[p].axvline(x=stroke['cc_duration'] * 1000, color='grey', ls='dashed', alpha=0.8)\n",
    "    im[p] = ax[p].axvline(x=stroke['subseq'] * 1000, color='orange', ls='dashed', alpha=0.8)\n",
    "\n",
    "    # colorbar\n",
    "    cb = plt.subplot2grid((30, 15), (26, 0), colspan=10)\n",
    "    map = cm.ScalarMappable(cmap=cmap, norm=colors.TwoSlopeNorm(vmin=(lma[\"dt\"]*1000).min(), vcenter=0, vmax=(lma[\"dt\"]*1000).max()))\n",
    "    cbar = fig.colorbar(map, cax=cb, label=\"t (ms)\", orientation=\"horizontal\", pad=0.5, fraction=0.07, anchor=(1.0, 0.0))\n",
    "    cbar.ax.set_xscale('linear')\n",
    "    cbar.ax.tick_params(top=True, labeltop=False, bottom=True, labelbottom=True)\n",
    "\n",
    "    txt = f\"\"\"Linha {stroke['linha']:.0f}, Multiplicidade {stroke['mult']:.0f}, Ip {stroke['imax']:.1f} kA, CC {stroke['cc_duration'] * 1000:.0f} ms, {stroke.name.strftime('%Y-%m-%d %H:%M:%S.%f')[:-3]}\"\"\"\n",
    "    print(txt)\n",
    "\n",
    "    fig.show()\n",
    "    fig.savefig('%s/%s.png' % (path, txt), bbox_inches='tight', dpi=fig.dpi)"
   ]
  },
  {
   "cell_type": "code",
   "execution_count": null,
   "metadata": {
    "colab": {
     "base_uri": "https://localhost:8080/",
     "height": 1000
    },
    "collapsed": true,
    "id": "g_nZ-4nz31NM",
    "outputId": "9bbb10ba-cb1f-4a6e-8439-583d01c844d9"
   },
   "outputs": [],
   "source": [
    "# roda as funções para cada linha da tabela \"dados\"\n",
    "for index, row in dados.iterrows():\n",
    "    try:\n",
    "        # executa para cada linha\n",
    "        stroke = stroke_filter(row)\n",
    "        lmagz = get_lmagz(stroke)\n",
    "        lma = lma_filter(lmagz, stroke)\n",
    "        plot_lma(lma, stroke)\n",
    "    except:\n",
    "        # se os dados não existem, passa para a próxima linha, sem parar o código\n",
    "        pass"
   ]
  }
 ],
 "metadata": {
  "colab": {
   "provenance": []
  },
  "kernelspec": {
   "display_name": "Python 3",
   "name": "python3"
  },
  "language_info": {
   "name": "python"
  }
 },
 "nbformat": 4,
 "nbformat_minor": 0
}
